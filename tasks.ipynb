{
 "cells": [
  {
   "cell_type": "markdown",
   "metadata": {},
   "source": [
    "Task 1 : Binary Representations."
   ]
  },
  {
   "cell_type": "markdown",
   "metadata": {},
   "source": [
    "This notebook implements various binary manipulation functions for 32-bit unsigned integers:\n",
    "1. `rotl`: Rotate bits left\n",
    "2. `rotr`: Rotate bits right\n",
    "3. `ch`: Choose bits based on selector\n",
    "4. `maj`: Majority vote of bits\n",
    "\n",
    "## Function Implementations"
   ]
  },
  {
   "cell_type": "code",
   "execution_count": 38,
   "metadata": {},
   "outputs": [],
   "source": [
    "def rotl(x: int, n: int = 1) -> int:\n",
    "    \"\"\"\n",
    "    Rotate a 32-bit unsigned integer to the left by n positions.\n",
    "    \n",
    "    Args:\n",
    "        x: The integer to rotate (must be a 32-bit unsigned integer)\n",
    "        n: Number of positions to rotate left (default: 1)\n",
    "    \n",
    "    Returns:\n",
    "        The rotated integer\n",
    "    \"\"\"\n",
    "    x = x & 0xFFFFFFFF  # Ensure 32-bit\n",
    "    n = n % 32  # Normalize rotation amount\n",
    "    return ((x << n) | (x >> (32 - n))) & 0xFFFFFFFF"
   ]
  },
  {
   "cell_type": "code",
   "execution_count": 39,
   "metadata": {},
   "outputs": [
    {
     "name": "stdout",
     "output_type": "stream",
     "text": [
      "Testing rotl function:\n",
      "Original number: 0x12345678\n",
      "Rotated left 4 bits: 0x23456781\n",
      "Rotated left 8 bits: 0x34567812\n",
      "Rotated left 16 bits: 0x56781234\n"
     ]
    }
   ],
   "source": [
    "# Test rotl function\n",
    "print(\"Testing rotl function:\")\n",
    "test_num = 0x12345678\n",
    "print(f\"Original number: {hex(test_num)}\")\n",
    "print(f\"Rotated left 4 bits: {hex(rotl(test_num, 4))}\")\n",
    "print(f\"Rotated left 8 bits: {hex(rotl(test_num, 8))}\")\n",
    "print(f\"Rotated left 16 bits: {hex(rotl(test_num, 16))}\")"
   ]
  },
  {
   "cell_type": "code",
   "execution_count": 40,
   "metadata": {},
   "outputs": [],
   "source": [
    "def rotr(x: int, n: int = 1) -> int:\n",
    "    \"\"\"\n",
    "    Rotate a 32-bit unsigned integer to the right by n positions.\n",
    "    \n",
    "    Args:\n",
    "        x: The integer to rotate (must be a 32-bit unsigned integer)\n",
    "        n: Number of positions to rotate right (default: 1)\n",
    "    \n",
    "    Returns:\n",
    "        The rotated integer\n",
    "    \"\"\"\n",
    "    x = x & 0xFFFFFFFF  # Ensure 32-bit\n",
    "    n = n % 32  # Normalize rotation amount\n",
    "    return ((x >> n) | (x << (32 - n))) & 0xFFFFFFFF"
   ]
  },
  {
   "cell_type": "code",
   "execution_count": 41,
   "metadata": {},
   "outputs": [
    {
     "name": "stdout",
     "output_type": "stream",
     "text": [
      "Testing rotr function:\n",
      "Original number: 0x12345678\n",
      "Rotated right 4 bits: 0x81234567\n",
      "Rotated right 8 bits: 0x78123456\n",
      "Rotated right 16 bits: 0x56781234\n"
     ]
    }
   ],
   "source": [
    "# Test rotr function\n",
    "print(\"Testing rotr function:\")\n",
    "test_num = 0x12345678\n",
    "print(f\"Original number: {hex(test_num)}\")\n",
    "print(f\"Rotated right 4 bits: {hex(rotr(test_num, 4))}\")\n",
    "print(f\"Rotated right 8 bits: {hex(rotr(test_num, 8))}\")\n",
    "print(f\"Rotated right 16 bits: {hex(rotr(test_num, 16))}\")"
   ]
  },
  {
   "cell_type": "code",
   "execution_count": 42,
   "metadata": {},
   "outputs": [],
   "source": [
    "def ch(x: int, y: int, z: int) -> int:\n",
    "    \"\"\"\n",
    "    Choose bits from y where x has 1s, and from z where x has 0s.\n",
    "    \n",
    "    Args:\n",
    "        x: The selector integer\n",
    "        y: First input integer\n",
    "        z: Second input integer\n",
    "    \n",
    "    Returns:\n",
    "        The resulting integer after bit selection\n",
    "    \"\"\"\n",
    "    return (x & y) ^ (~x & z)"
   ]
  },
  {
   "cell_type": "code",
   "execution_count": 43,
   "metadata": {},
   "outputs": [
    {
     "name": "stdout",
     "output_type": "stream",
     "text": [
      "Testing ch function:\n",
      "x: 0xffffffff\n",
      "y: 0xaaaaaaaa\n",
      "z: 0x55555555\n",
      "ch(x,y,z): 0xaaaaaaaa\n",
      "\n",
      "x: 0x0\n",
      "y: 0xaaaaaaaa\n",
      "z: 0x55555555\n",
      "ch(x,y,z): 0x55555555\n"
     ]
    }
   ],
   "source": [
    "# Test ch function\n",
    "print(\"Testing ch function:\")\n",
    "x = 0xFFFFFFFF\n",
    "y = 0xAAAAAAAA  # Pattern of alternating 1s and 0s\n",
    "z = 0x55555555  # Inverse pattern of y\n",
    "\n",
    "print(f\"x: {hex(x)}\")\n",
    "print(f\"y: {hex(y)}\")\n",
    "print(f\"z: {hex(z)}\")\n",
    "print(f\"ch(x,y,z): {hex(ch(x,y,z))}\")\n",
    "\n",
    "# Test with x = 0\n",
    "x = 0x00000000\n",
    "print(f\"\\nx: {hex(x)}\")\n",
    "print(f\"y: {hex(y)}\")\n",
    "print(f\"z: {hex(z)}\")\n",
    "print(f\"ch(x,y,z): {hex(ch(x,y,z))}\")"
   ]
  },
  {
   "cell_type": "code",
   "execution_count": 44,
   "metadata": {},
   "outputs": [],
   "source": [
    "def maj(x: int, y: int, z: int) -> int:\n",
    "    \"\"\"\n",
    "    Take majority vote of bits in x, y, and z.\n",
    "    \n",
    "    Args:\n",
    "        x: First input integer\n",
    "        y: Second input integer\n",
    "        z: Third input integer\n",
    "    \n",
    "    Returns:\n",
    "        Integer with 1s where majority (2 or more) inputs have 1s\n",
    "    \"\"\"\n",
    "    return (x & y) ^ (x & z) ^ (y & z)"
   ]
  },
  {
   "cell_type": "code",
   "execution_count": 45,
   "metadata": {},
   "outputs": [
    {
     "name": "stdout",
     "output_type": "stream",
     "text": [
      "Testing maj function:\n",
      "x: 0xffffffff\n",
      "y: 0xaaaaaaaa\n",
      "z: 0x55555555\n",
      "maj(x,y,z): 0xffffffff\n",
      "\n",
      "x: 0x0\n",
      "y: 0xaaaaaaaa\n",
      "z: 0x55555555\n",
      "maj(x,y,z): 0x0\n"
     ]
    }
   ],
   "source": [
    "# Test maj function\n",
    "print(\"Testing maj function:\")\n",
    "x = 0xFFFFFFFF\n",
    "y = 0xAAAAAAAA\n",
    "z = 0x55555555\n",
    "\n",
    "print(f\"x: {hex(x)}\")\n",
    "print(f\"y: {hex(y)}\")\n",
    "print(f\"z: {hex(z)}\")\n",
    "print(f\"maj(x,y,z): {hex(maj(x,y,z))}\")\n",
    "\n",
    "# Test with different patterns\n",
    "x = 0x00000000\n",
    "print(f\"\\nx: {hex(x)}\")\n",
    "print(f\"y: {hex(y)}\")\n",
    "print(f\"z: {hex(z)}\")\n",
    "print(f\"maj(x,y,z): {hex(maj(x,y,z))}\")"
   ]
  },
  {
   "cell_type": "markdown",
   "metadata": {},
   "source": [
    "Task 2"
   ]
  },
  {
   "cell_type": "code",
   "execution_count": 46,
   "metadata": {},
   "outputs": [],
   "source": [
    "def hash_function(s):\n",
    "    \"\"\"\n",
    "    Python implementation of the hash function from \n",
    "    The C Programming Language by Brian Kernighan and Dennis Ritchie.\n",
    "    \n",
    "    Args:\n",
    "        s (str): The string to hash\n",
    "        \n",
    "    Returns:\n",
    "        int: The hash value\n",
    "    \"\"\"\n",
    "    hashval = 0\n",
    "    for char in s:\n",
    "        hashval = ord(char) + 31 * hashval\n",
    "    return hashval % 101"
   ]
  },
  {
   "cell_type": "code",
   "execution_count": 47,
   "metadata": {},
   "outputs": [
    {
     "name": "stdout",
     "output_type": "stream",
     "text": [
      "String\t\tHash Value\n",
      "------------------------------\n",
      "hello          \t17\n",
      "world          \t34\n",
      "python         \t91\n",
      "hash           \t15\n",
      "function       \t100\n",
      "algorithm      \t76\n",
      "kernighan      \t37\n",
      "ritchie        \t26\n",
      "programming    \t89\n",
      "language       \t68\n"
     ]
    }
   ],
   "source": [
    "# Test with some sample strings\n",
    "test_strings = [\n",
    "    \"hello\",\n",
    "    \"world\",\n",
    "    \"python\",\n",
    "    \"hash\",\n",
    "    \"function\",\n",
    "    \"algorithm\",\n",
    "    \"kernighan\",\n",
    "    \"ritchie\",\n",
    "    \"programming\",\n",
    "    \"language\"\n",
    "]\n",
    "\n",
    "print(\"String\\t\\tHash Value\")\n",
    "print(\"-\" * 30)\n",
    "for s in test_strings:\n",
    "    print(f\"{s:<15}\\t{hash_function(s)}\")"
   ]
  },
  {
   "cell_type": "code",
   "execution_count": 48,
   "metadata": {},
   "outputs": [
    {
     "name": "stdout",
     "output_type": "stream",
     "text": [
      "\n",
      "Collision test with 1000 strings:\n",
      "Number of unique hash values: 101\n",
      "Number of collisions: 899\n",
      "Collision rate: 89.90%\n"
     ]
    }
   ],
   "source": [
    "# Test for collisions\n",
    "all_values = {}\n",
    "for i in range(1000):\n",
    "    test_str = f\"test{i}\"\n",
    "    hash_val = hash_function(test_str)\n",
    "    if hash_val in all_values:\n",
    "        all_values[hash_val].append(test_str)\n",
    "    else:\n",
    "        all_values[hash_val] = [test_str]\n",
    "\n",
    "# Count collisions\n",
    "collisions = sum(len(strings) - 1 for strings in all_values.values() if len(strings) > 1)\n",
    "print(f\"\\nCollision test with 1000 strings:\")\n",
    "print(f\"Number of unique hash values: {len(all_values)}\")\n",
    "print(f\"Number of collisions: {collisions}\")\n",
    "print(f\"Collision rate: {collisions/1000:.2%}\")"
   ]
  },
  {
   "cell_type": "markdown",
   "metadata": {},
   "source": [
    "Task 3: SHA256"
   ]
  },
  {
   "cell_type": "code",
   "execution_count": 49,
   "metadata": {},
   "outputs": [],
   "source": [
    "def calculate_sha256_padding(file_path: str) -> None:\n",
    "    \"\"\"\n",
    "    Calculate and print the SHA256 padding that would be applied to a file.\n",
    "    \n",
    "    The SHA256 padding consists of:\n",
    "    1. A '1' bit (0x80 byte)\n",
    "    2. Enough '0' bits to make the total length a multiple of 512 bits\n",
    "    3. The original message length as a 64-bit big-endian integer\n",
    "    \n",
    "    Args:\n",
    "        file_path: Path to the file to calculate padding for\n",
    "    \"\"\"\n",
    "    # Get the file size in bytes\n",
    "    file_size = 0\n",
    "    with open(file_path, 'rb') as f:\n",
    "        # Read the file in chunks to handle large files\n",
    "        chunk = f.read(8192)\n",
    "        while chunk:\n",
    "            file_size += len(chunk)\n",
    "            chunk = f.read(8192)\n",
    "    \n",
    "    # Calculate the file size in bits\n",
    "    file_size_bits = file_size * 8\n",
    "    \n",
    "    # Calculate padding\n",
    "    # First byte of padding is always 0x80 (a '1' bit followed by 7 '0' bits)\n",
    "    padding = [0x80]\n",
    "    \n",
    "    # Calculate how many bytes of zeros we need\n",
    "    # The total length needs to be a multiple of 512 bits (64 bytes)\n",
    "    # We need to reserve 8 bytes (64 bits) for the length field\n",
    "    # So we need to pad to: (n*64 - 8 - 1) bytes, where n is some integer\n",
    "    # and 1 is for the 0x80 byte we already added\n",
    "    \n",
    "    # Calculate how many bytes we need to add to get to a multiple of 64 bytes\n",
    "    # minus 9 bytes (1 for 0x80 and 8 for the length)\n",
    "    remainder = (file_size + 1) % 64\n",
    "    zero_bytes_needed = 64 - 8 - remainder if remainder <= 56 else 128 - 8 - remainder\n",
    "    \n",
    "    # Add the zero bytes\n",
    "    padding.extend([0x00] * zero_bytes_needed)\n",
    "    \n",
    "    # Add the original length as a 64-bit big-endian integer\n",
    "    # We need to represent the length in bits, not bytes\n",
    "    for i in range(7, -1, -1):\n",
    "        # Extract each byte of the 64-bit length\n",
    "        padding.append((file_size_bits >> (i * 8)) & 0xFF)\n",
    "    \n",
    "    # Print the padding in hex format\n",
    "    padding_hex = ' '.join(f'{byte:02X}' for byte in padding)\n",
    "    \n",
    "    # Format the output to match the example (with line breaks every 26 bytes)\n",
    "    formatted_output = ''\n",
    "    for i in range(0, len(padding_hex), 78):  # 26 bytes = 26*3 chars (including spaces)\n",
    "        formatted_output += padding_hex[i:i+78] + '\\n'\n",
    "    \n",
    "    print(f\"SHA256 padding for file '{file_path}':\")\n",
    "    print(formatted_output.strip())"
   ]
  },
  {
   "cell_type": "code",
   "execution_count": 50,
   "metadata": {},
   "outputs": [
    {
     "name": "stdout",
     "output_type": "stream",
     "text": [
      "SHA256 padding for file 'test_abc.txt':\n",
      "80 00 00 00 00 00 00 00 00 00 00 00 00 00 00 00 00 00 00 00 00 00 00 00 00 00 \n",
      "00 00 00 00 00 00 00 00 00 00 00 00 00 00 00 00 00 00 00 00 00 00 00 00 00 00 \n",
      "00 00 00 00 00 00 00 00 18\n"
     ]
    }
   ],
   "source": [
    "# Test the SHA256 padding function with a simple example\n",
    "import os\n",
    "\n",
    "# Create a test file with content \"abc\"\n",
    "test_file = \"test_abc.txt\"\n",
    "with open(test_file, \"wb\") as f:\n",
    "    f.write(b\"abc\")\n",
    "\n",
    "# Calculate and print the padding\n",
    "calculate_sha256_padding(test_file)\n",
    "\n",
    "# Clean up the test file\n",
    "os.remove(test_file)"
   ]
  },
  {
   "cell_type": "markdown",
   "metadata": {},
   "source": [
    "Task 4: Prime Numbers\n",
    "\n",
    "This task implements two different algorithms to find prime numbers:\n",
    "1. Sieve of Eratosthenes - An efficient algorithm that marks non-prime numbers in a range\n",
    "2. Trial Division - A simple algorithm that checks each number for divisibility"
   ]
  },
  {
   "cell_type": "code",
   "execution_count": null,
   "metadata": {},
   "outputs": [],
   "source": [
    "def sieve_of_eratosthenes(n: int) -> list[int]:\n",
    "    \"\"\"\n",
    "    Find all prime numbers up to n using the Sieve of Eratosthenes algorithm.\n",
    "    \n",
    "    The algorithm works by:\n",
    "    1. Creating a boolean array of size n+1, initially all True\n",
    "    2. Starting from 2, for each prime number:\n",
    "       - Mark all its multiples as non-prime\n",
    "    3. Collect all numbers that remain marked as True\n",
    "    \n",
    "    Args:\n",
    "        n: Upper limit to find primes up to\n",
    "    \n",
    "    Returns:\n",
    "        List of prime numbers up to n\n",
    "    \"\"\"\n",
    "    # Create a boolean array \"is_prime[0..n]\" and initialize\n",
    "    # all entries it as true. A value in is_prime[i] will\n",
    "    # finally be false if i is Not a prime, else true.\n",
    "    is_prime = [True] * (n + 1)\n",
    "    is_prime[0] = is_prime[1] = False\n",
    "    \n",
    "    for i in range(2, int(n ** 0.5) + 1):\n",
    "        if is_prime[i]:\n",
    "            # Update all multiples of i\n",
    "            for j in range(i * i, n + 1, i):\n",
    "                is_prime[j] = False\n",
    "    \n",
    "    # Collect all prime numbers\n",
    "    return [i for i in range(n + 1) if is_prime[i]]"
   ]
  }
 ],
 "metadata": {
  "kernelspec": {
   "display_name": "Python 3",
   "language": "python",
   "name": "python3"
  },
  "language_info": {
   "codemirror_mode": {
    "name": "ipython",
    "version": 3
   },
   "file_extension": ".py",
   "mimetype": "text/x-python",
   "name": "python",
   "nbconvert_exporter": "python",
   "pygments_lexer": "ipython3",
   "version": "3.13.2"
  }
 },
 "nbformat": 4,
 "nbformat_minor": 2
}
