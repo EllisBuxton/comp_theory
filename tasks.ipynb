{
 "cells": [
  {
   "cell_type": "markdown",
   "metadata": {},
   "source": [
    "Task 1 : Binary Representations."
   ]
  },
  {
   "cell_type": "markdown",
   "metadata": {},
   "source": [
    "This notebook implements various binary manipulation functions for 32-bit unsigned integers:\n",
    "1. `rotl`: Rotate bits left\n",
    "2. `rotr`: Rotate bits right\n",
    "3. `ch`: Choose bits based on selector\n",
    "4. `maj`: Majority vote of bits\n",
    "\n",
    "## Function Implementations"
   ]
  },
  {
   "cell_type": "code",
   "execution_count": 3,
   "metadata": {},
   "outputs": [],
   "source": [
    "def rotl(x: int, n: int = 1) -> int:\n",
    "    \"\"\"\n",
    "    Rotate a 32-bit unsigned integer to the left by n positions.\n",
    "    \n",
    "    Args:\n",
    "        x: The integer to rotate (must be a 32-bit unsigned integer)\n",
    "        n: Number of positions to rotate left (default: 1)\n",
    "    \n",
    "    Returns:\n",
    "        The rotated integer\n",
    "    \"\"\"\n",
    "    x = x & 0xFFFFFFFF  # Ensure 32-bit\n",
    "    n = n % 32  # Normalize rotation amount\n",
    "    return ((x << n) | (x >> (32 - n))) & 0xFFFFFFFF"
   ]
  },
  {
   "cell_type": "code",
   "execution_count": 4,
   "metadata": {},
   "outputs": [
    {
     "name": "stdout",
     "output_type": "stream",
     "text": [
      "Testing rotl function:\n",
      "Original number: 0x12345678\n",
      "Rotated left 4 bits: 0x23456781\n",
      "Rotated left 8 bits: 0x34567812\n",
      "Rotated left 16 bits: 0x56781234\n"
     ]
    }
   ],
   "source": [
    "# Test rotl function\n",
    "print(\"Testing rotl function:\")\n",
    "test_num = 0x12345678\n",
    "print(f\"Original number: {hex(test_num)}\")\n",
    "print(f\"Rotated left 4 bits: {hex(rotl(test_num, 4))}\")\n",
    "print(f\"Rotated left 8 bits: {hex(rotl(test_num, 8))}\")\n",
    "print(f\"Rotated left 16 bits: {hex(rotl(test_num, 16))}\")"
   ]
  },
  {
   "cell_type": "code",
   "execution_count": null,
   "metadata": {},
   "outputs": [],
   "source": [
    "def rotr(x: int, n: int = 1) -> int:\n",
    "    \"\"\"\n",
    "    Rotate a 32-bit unsigned integer to the right by n positions.\n",
    "    \n",
    "    Args:\n",
    "        x: The integer to rotate (must be a 32-bit unsigned integer)\n",
    "        n: Number of positions to rotate right (default: 1)\n",
    "    \n",
    "    Returns:\n",
    "        The rotated integer\n",
    "    \"\"\"\n",
    "    x = x & 0xFFFFFFFF  # Ensure 32-bit\n",
    "    n = n % 32  # Normalize rotation amount\n",
    "    return ((x >> n) | (x << (32 - n))) & 0xFFFFFFFF"
   ]
  },
  {
   "cell_type": "code",
   "execution_count": null,
   "metadata": {},
   "outputs": [],
   "source": [
    "# Test rotr function\n",
    "print(\"Testing rotr function:\")\n",
    "test_num = 0x12345678\n",
    "print(f\"Original number: {hex(test_num)}\")\n",
    "print(f\"Rotated right 4 bits: {hex(rotr(test_num, 4))}\")\n",
    "print(f\"Rotated right 8 bits: {hex(rotr(test_num, 8))}\")\n",
    "print(f\"Rotated right 16 bits: {hex(rotr(test_num, 16))}\")"
   ]
  },
  {
   "cell_type": "code",
   "execution_count": null,
   "metadata": {},
   "outputs": [],
   "source": [
    "def ch(x: int, y: int, z: int) -> int:\n",
    "    \"\"\"\n",
    "    Choose bits from y where x has 1s, and from z where x has 0s.\n",
    "    \n",
    "    Args:\n",
    "        x: The selector integer\n",
    "        y: First input integer\n",
    "        z: Second input integer\n",
    "    \n",
    "    Returns:\n",
    "        The resulting integer after bit selection\n",
    "    \"\"\"\n",
    "    return (x & y) ^ (~x & z)"
   ]
  },
  {
   "cell_type": "code",
   "execution_count": null,
   "metadata": {},
   "outputs": [],
   "source": [
    "# Test ch function\n",
    "print(\"Testing ch function:\")\n",
    "x = 0xFFFFFFFF\n",
    "y = 0xAAAAAAAA  # Pattern of alternating 1s and 0s\n",
    "z = 0x55555555  # Inverse pattern of y\n",
    "\n",
    "print(f\"x: {hex(x)}\")\n",
    "print(f\"y: {hex(y)}\")\n",
    "print(f\"z: {hex(z)}\")\n",
    "print(f\"ch(x,y,z): {hex(ch(x,y,z))}\")\n",
    "\n",
    "# Test with x = 0\n",
    "x = 0x00000000\n",
    "print(f\"\\nx: {hex(x)}\")\n",
    "print(f\"y: {hex(y)}\")\n",
    "print(f\"z: {hex(z)}\")\n",
    "print(f\"ch(x,y,z): {hex(ch(x,y,z))}\")"
   ]
  },
  {
   "cell_type": "code",
   "execution_count": null,
   "metadata": {},
   "outputs": [],
   "source": [
    "def maj(x: int, y: int, z: int) -> int:\n",
    "    \"\"\"\n",
    "    Take majority vote of bits in x, y, and z.\n",
    "    \n",
    "    Args:\n",
    "        x: First input integer\n",
    "        y: Second input integer\n",
    "        z: Third input integer\n",
    "    \n",
    "    Returns:\n",
    "        Integer with 1s where majority (2 or more) inputs have 1s\n",
    "    \"\"\"\n",
    "    return (x & y) ^ (x & z) ^ (y & z)"
   ]
  },
  {
   "cell_type": "code",
   "execution_count": null,
   "metadata": {},
   "outputs": [],
   "source": [
    "# Test maj function\n",
    "print(\"Testing maj function:\")\n",
    "x = 0xFFFFFFFF\n",
    "y = 0xAAAAAAAA\n",
    "z = 0x55555555\n",
    "\n",
    "print(f\"x: {hex(x)}\")\n",
    "print(f\"y: {hex(y)}\")\n",
    "print(f\"z: {hex(z)}\")\n",
    "print(f\"maj(x,y,z): {hex(maj(x,y,z))}\")\n",
    "\n",
    "# Test with different patterns\n",
    "x = 0x00000000\n",
    "print(f\"\\nx: {hex(x)}\")\n",
    "print(f\"y: {hex(y)}\")\n",
    "print(f\"z: {hex(z)}\")\n",
    "print(f\"maj(x,y,z): {hex(maj(x,y,z))}\")"
   ]
  }
 ],
 "metadata": {
  "kernelspec": {
   "display_name": "Python 3",
   "language": "python",
   "name": "python3"
  },
  "language_info": {
   "codemirror_mode": {
    "name": "ipython",
    "version": 3
   },
   "file_extension": ".py",
   "mimetype": "text/x-python",
   "name": "python",
   "nbconvert_exporter": "python",
   "pygments_lexer": "ipython3",
   "version": "3.13.2"
  }
 },
 "nbformat": 4,
 "nbformat_minor": 2
}
